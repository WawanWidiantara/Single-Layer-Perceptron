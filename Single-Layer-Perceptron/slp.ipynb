{
 "cells": [
  {
   "cell_type": "code",
   "execution_count": 15,
   "metadata": {},
   "outputs": [],
   "source": [
    "import pandas as pd\n",
    "import numpy as np\n",
    "\n",
    "from sklearn.preprocessing import LabelEncoder, MinMaxScaler"
   ]
  },
  {
   "cell_type": "code",
   "execution_count": 40,
   "metadata": {},
   "outputs": [
    {
     "data": {
      "text/html": [
       "<div>\n",
       "<style scoped>\n",
       "    .dataframe tbody tr th:only-of-type {\n",
       "        vertical-align: middle;\n",
       "    }\n",
       "\n",
       "    .dataframe tbody tr th {\n",
       "        vertical-align: top;\n",
       "    }\n",
       "\n",
       "    .dataframe thead th {\n",
       "        text-align: right;\n",
       "    }\n",
       "</style>\n",
       "<table border=\"1\" class=\"dataframe\">\n",
       "  <thead>\n",
       "    <tr style=\"text-align: right;\">\n",
       "      <th></th>\n",
       "      <th>0</th>\n",
       "      <th>1</th>\n",
       "      <th>2</th>\n",
       "      <th>3</th>\n",
       "      <th>4</th>\n",
       "      <th>5</th>\n",
       "      <th>6</th>\n",
       "      <th>7</th>\n",
       "      <th>8</th>\n",
       "      <th>9</th>\n",
       "      <th>10</th>\n",
       "      <th>11</th>\n",
       "      <th>12</th>\n",
       "    </tr>\n",
       "  </thead>\n",
       "  <tbody>\n",
       "    <tr>\n",
       "      <th>0</th>\n",
       "      <td>PassengerId</td>\n",
       "      <td>Survived</td>\n",
       "      <td>Pclass</td>\n",
       "      <td>Name</td>\n",
       "      <td>Sex</td>\n",
       "      <td>Age</td>\n",
       "      <td>SibSp</td>\n",
       "      <td>Parch</td>\n",
       "      <td>Ticket</td>\n",
       "      <td>Fare</td>\n",
       "      <td>Cabin</td>\n",
       "      <td>Embarked</td>\n",
       "      <td>NaN</td>\n",
       "    </tr>\n",
       "    <tr>\n",
       "      <th>1</th>\n",
       "      <td>1</td>\n",
       "      <td>0</td>\n",
       "      <td>3</td>\n",
       "      <td>Braund</td>\n",
       "      <td>Mr. Owen Harris</td>\n",
       "      <td>male</td>\n",
       "      <td>22</td>\n",
       "      <td>1</td>\n",
       "      <td>0</td>\n",
       "      <td>A/5 21171</td>\n",
       "      <td>7.25</td>\n",
       "      <td>NaN</td>\n",
       "      <td>S</td>\n",
       "    </tr>\n",
       "    <tr>\n",
       "      <th>2</th>\n",
       "      <td>2</td>\n",
       "      <td>1</td>\n",
       "      <td>1</td>\n",
       "      <td>Cumings</td>\n",
       "      <td>Mrs. John Bradley (Florence Briggs Thayer)</td>\n",
       "      <td>female</td>\n",
       "      <td>38</td>\n",
       "      <td>1</td>\n",
       "      <td>0</td>\n",
       "      <td>PC 17599</td>\n",
       "      <td>712.833</td>\n",
       "      <td>C85</td>\n",
       "      <td>C</td>\n",
       "    </tr>\n",
       "    <tr>\n",
       "      <th>3</th>\n",
       "      <td>3</td>\n",
       "      <td>1</td>\n",
       "      <td>3</td>\n",
       "      <td>Heikkinen</td>\n",
       "      <td>Miss. Laina</td>\n",
       "      <td>female</td>\n",
       "      <td>26</td>\n",
       "      <td>0</td>\n",
       "      <td>0</td>\n",
       "      <td>STON/O2. 3101282</td>\n",
       "      <td>7.925</td>\n",
       "      <td>NaN</td>\n",
       "      <td>S</td>\n",
       "    </tr>\n",
       "    <tr>\n",
       "      <th>4</th>\n",
       "      <td>4</td>\n",
       "      <td>1</td>\n",
       "      <td>1</td>\n",
       "      <td>Futrelle</td>\n",
       "      <td>Mrs. Jacques Heath (Lily May Peel)</td>\n",
       "      <td>female</td>\n",
       "      <td>35</td>\n",
       "      <td>1</td>\n",
       "      <td>0</td>\n",
       "      <td>113803</td>\n",
       "      <td>53.1</td>\n",
       "      <td>C123</td>\n",
       "      <td>S</td>\n",
       "    </tr>\n",
       "  </tbody>\n",
       "</table>\n",
       "</div>"
      ],
      "text/plain": [
       "            0         1       2          3    \n",
       "0  PassengerId  Survived  Pclass       Name  \\\n",
       "1            1         0       3     Braund   \n",
       "2            2         1       1    Cumings   \n",
       "3            3         1       3  Heikkinen   \n",
       "4            4         1       1   Futrelle   \n",
       "\n",
       "                                            4       5      6      7       8    \n",
       "0                                          Sex     Age  SibSp  Parch  Ticket  \\\n",
       "1                              Mr. Owen Harris    male     22      1       0   \n",
       "2   Mrs. John Bradley (Florence Briggs Thayer)  female     38      1       0   \n",
       "3                                  Miss. Laina  female     26      0       0   \n",
       "4           Mrs. Jacques Heath (Lily May Peel)  female     35      1       0   \n",
       "\n",
       "                 9        10        11   12  \n",
       "0              Fare    Cabin  Embarked  NaN  \n",
       "1         A/5 21171     7.25       NaN    S  \n",
       "2          PC 17599  712.833       C85    C  \n",
       "3  STON/O2. 3101282    7.925       NaN    S  \n",
       "4            113803     53.1      C123    S  "
      ]
     },
     "execution_count": 40,
     "metadata": {},
     "output_type": "execute_result"
    }
   ],
   "source": [
    "df = pd.read_csv(\"D:/Code/py_code/Artificial-Neural-Network/Single-Layer-Perceptron/data/train_data_cl.csv\", header=None, names=list(range(13)))\n",
    "df.head()"
   ]
  },
  {
   "cell_type": "markdown",
   "metadata": {},
   "source": [
    "# Data Preprocessing"
   ]
  },
  {
   "cell_type": "markdown",
   "metadata": {},
   "source": [
    "### Benerin column"
   ]
  },
  {
   "cell_type": "code",
   "execution_count": null,
   "metadata": {},
   "outputs": [],
   "source": [
    "col_name = df.iloc[0,:12].values\n",
    "col_name = np.insert(col_name, 4, \"FirstName\")\n",
    "\n",
    "df.columns = col_name\n",
    "df = df.drop(0).reset_index(drop=True)\n",
    "\n",
    "df.head()"
   ]
  },
  {
   "cell_type": "markdown",
   "metadata": {},
   "source": [
    "### Merge Name dan FirstName"
   ]
  },
  {
   "cell_type": "code",
   "execution_count": null,
   "metadata": {},
   "outputs": [],
   "source": [
    "df[\"Name\"] = df[\"FirstName\"] + \" \" + df[\"Name\"]\n",
    "df = df.drop(\"FirstName\", axis=1)\n",
    "df"
   ]
  },
  {
   "cell_type": "markdown",
   "metadata": {},
   "source": [
    "### Perbaikan data yang tidak sesuai"
   ]
  },
  {
   "cell_type": "markdown",
   "metadata": {},
   "source": [
    "**Perbaikan Data Sex**\n",
    "\n",
    "terdapat data dengan value yang bukan 'male' atau 'female'"
   ]
  },
  {
   "cell_type": "code",
   "execution_count": null,
   "metadata": {},
   "outputs": [],
   "source": [
    "print(df['Sex'].unique().tolist())\n",
    "true_sex_val = ['male', 'female']\n",
    "count = 0\n",
    "for val in df[\"Sex\"].values:\n",
    "    if val not in true_sex_val:\n",
    "        df.loc[count, 'Sex'] = np.random.choice(true_sex_val)\n",
    "    count += 1\n",
    "print(df['Sex'].unique().tolist())"
   ]
  },
  {
   "cell_type": "markdown",
   "metadata": {},
   "source": [
    "**Perbaikan Data Fare**\n",
    "\n",
    "terdapat data dengan value yang bukan float"
   ]
  },
  {
   "cell_type": "code",
   "execution_count": null,
   "metadata": {},
   "outputs": [],
   "source": [
    "count = 0\n",
    "for val in df['Fare'].values:\n",
    "    try:\n",
    "        float(val)\n",
    "    except ValueError:\n",
    "        df.loc[count, 'Fare'] = 0\n",
    "    count += 1"
   ]
  },
  {
   "cell_type": "markdown",
   "metadata": {},
   "source": [
    "**Perbaikan Data Parch**\n",
    "\n",
    "terdapat data dengan value yang bukan int"
   ]
  },
  {
   "cell_type": "code",
   "execution_count": null,
   "metadata": {},
   "outputs": [],
   "source": [
    "count = 0\n",
    "for val in df['Parch'].values:\n",
    "    if len(val) > 1:\n",
    "        df.loc[count, 'Parch'] = 0\n",
    "    count += 1"
   ]
  },
  {
   "cell_type": "markdown",
   "metadata": {},
   "source": [
    "### Change Data Type"
   ]
  },
  {
   "cell_type": "code",
   "execution_count": null,
   "metadata": {},
   "outputs": [],
   "source": [
    "df.info()"
   ]
  },
  {
   "cell_type": "code",
   "execution_count": null,
   "metadata": {},
   "outputs": [],
   "source": [
    "df = df.astype({'PassengerId': 'int64', 'Survived': 'int64', 'Pclass': 'int64', 'SibSp': 'int64', 'Parch': 'int64'})\n",
    "df = df.astype({'Name': 'string', 'Sex': 'string', 'Ticket': 'string', 'Cabin': 'string', 'Embarked': 'string'})\n",
    "df = df.astype({'Age': 'float64', 'Fare': 'float64'})\n",
    "df.info()"
   ]
  },
  {
   "cell_type": "markdown",
   "metadata": {},
   "source": [
    "### Menghilangkan Column yang tidak dipakai"
   ]
  },
  {
   "cell_type": "code",
   "execution_count": null,
   "metadata": {},
   "outputs": [],
   "source": [
    "del df['Name']\n",
    "del df['Ticket']\n",
    "del df['Cabin']"
   ]
  },
  {
   "cell_type": "markdown",
   "metadata": {},
   "source": [
    "### Cek & Replace Missing Value"
   ]
  },
  {
   "cell_type": "code",
   "execution_count": null,
   "metadata": {},
   "outputs": [],
   "source": [
    "missing = pd.DataFrame({\n",
    "    'total' : df.isnull().sum(),\n",
    "    'percent' : df.isnull().sum()/df.shape[0] * 100})\n",
    "    \n",
    "missing"
   ]
  },
  {
   "cell_type": "code",
   "execution_count": null,
   "metadata": {},
   "outputs": [],
   "source": [
    "df['Embarked'] = df['Embarked'].fillna(value=np.random.choice(df['Embarked'].unique().tolist()))\n",
    "df['Fare'] = df['Fare'].fillna(value=0)\n",
    "df.isna().sum()\n",
    "clean_data = df.copy()"
   ]
  },
  {
   "cell_type": "markdown",
   "metadata": {},
   "source": [
    "### Encode"
   ]
  },
  {
   "cell_type": "code",
   "execution_count": null,
   "metadata": {},
   "outputs": [],
   "source": [
    "lbenc = LabelEncoder()\n",
    "\n",
    "for i in df.columns.values:\n",
    "    if df[i].dtypes == 'string':\n",
    "        df[i] = lbenc.fit_transform(df[i])\n",
    "\n",
    "df.head()"
   ]
  },
  {
   "cell_type": "markdown",
   "metadata": {},
   "source": [
    "### Split Feature and Label"
   ]
  },
  {
   "cell_type": "code",
   "execution_count": null,
   "metadata": {},
   "outputs": [],
   "source": [
    "train = df.copy()\n",
    "x_train = train.iloc[:, 2:].values\n",
    "y_train = df.iloc[:, 1].values\n",
    "train"
   ]
  },
  {
   "cell_type": "markdown",
   "metadata": {},
   "source": [
    "### Normalisasi"
   ]
  },
  {
   "cell_type": "code",
   "execution_count": null,
   "metadata": {},
   "outputs": [],
   "source": [
    "feature = x_train.copy()\n",
    "label = y_train.copy()\n",
    "label = label.reshape(-1,1)\n",
    "passengerId = train.iloc[:, 0].values.reshape(-1,1)\n",
    "col = train.columns.values.tolist()\n",
    "col.pop(1)\n",
    "col.append(\"Survived\")\n",
    "\n",
    "mnmx = MinMaxScaler()\n",
    "feature = mnmx.fit_transform(feature)\n",
    "\n",
    "data = np.concatenate((passengerId, feature), axis=1)\n",
    "dataLabel = np.concatenate((data, label), axis=1)\n",
    "normalize_data = pd.DataFrame(dataLabel, columns=col)\n",
    "\n",
    "normalize_data = normalize_data.astype({'PassengerId': 'int64', 'Survived': 'int64'})\n",
    "normalize_data"
   ]
  },
  {
   "cell_type": "markdown",
   "metadata": {},
   "source": [
    "### Export hasil normalisasi ke excel"
   ]
  },
  {
   "cell_type": "code",
   "execution_count": null,
   "metadata": {},
   "outputs": [],
   "source": [
    "with pd.ExcelWriter('Single Layer Perceptron.xlsx') as writer:\n",
    "    clean_data.to_excel(writer, sheet_name='Hasil Preprocessing')\n",
    "    df.to_excel(writer, sheet_name='Hasil Encode')\n",
    "    normalize_data.to_excel(writer, sheet_name='Normalisasi')"
   ]
  }
 ],
 "metadata": {
  "kernelspec": {
   "display_name": "pyenv",
   "language": "python",
   "name": "python3"
  },
  "language_info": {
   "codemirror_mode": {
    "name": "ipython",
    "version": 3
   },
   "file_extension": ".py",
   "mimetype": "text/x-python",
   "name": "python",
   "nbconvert_exporter": "python",
   "pygments_lexer": "ipython3",
   "version": "3.11.3"
  }
 },
 "nbformat": 4,
 "nbformat_minor": 2
}
